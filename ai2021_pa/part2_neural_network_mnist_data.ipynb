{
 "cells": [
  {
   "cell_type": "code",
   "execution_count": 1,
   "metadata": {
    "collapsed": true
   },
   "outputs": [],
   "source": [
    "# python notebook for Make Your Own Neural Network\n",
    "# code for a 3-layer neural network, and code for learning the MNIST dataset\n",
    "# (c) Tariq Rashid, 2016\n",
    "# license is GPLv2"
   ]
  },
  {
   "cell_type": "code",
   "execution_count": 2,
   "metadata": {
    "collapsed": true
   },
   "outputs": [],
   "source": [
    "import numpy\n",
    "# scipy.special for the sigmoid function expit()\n",
    "import scipy.special\n",
    "# library for plotting arrays\n",
    "import matplotlib.pyplot\n",
    "# ensure the plots are inside this notebook, not an external window\n",
    "%matplotlib inline"
   ]
  },
  {
   "cell_type": "code",
   "execution_count": 3,
   "metadata": {},
   "outputs": [],
   "source": [
    "# neural network class definition\n",
    "class neuralNetwork:\n",
    "    \n",
    "    \n",
    "    # initialise the neural network\n",
    "    def __init__(self, inputnodes, hiddennodes, outputnodes, learningrate):\n",
    "        self.inodes = inputnodes\n",
    "        self.hnodes = hiddennodes\n",
    "        self.onodes = outputnodes\n",
    "        self.wih = numpy.random.normal(0.0, pow(self.inodes, -0.5), (self.hnodes, self.inodes))\n",
    "        self.who = numpy.random.normal(0.0, pow(self.hnodes, -0.5), (self.onodes, self.hnodes))\n",
    "        self.lr = learningrate\n",
    "        self.activation_function = lambda x: scipy.special.expit(x)\n",
    "    \n",
    "    # train the neural network\n",
    "    def train(self, inputs_list, targets_list):\n",
    "        inputs = numpy.array(inputs_list, ndmin=2).T\n",
    "        targets = numpy.array(targets_list, ndmin=2).T\n",
    "        #forprop\n",
    "        hidden_inputs = numpy.dot(self.wih, inputs)\n",
    "        hidden_outputs = self.activation_function(hidden_inputs)\n",
    "        final_inputs = numpy.dot(self.who, hidden_outputs)\n",
    "        final_outputs = self.activation_function(final_inputs)\n",
    "        #backprop\n",
    "        output_errors = targets - final_outputs\n",
    "        hidden_errors = numpy.dot(self.who.T, output_errors) \n",
    "        self.who += self.lr * numpy.dot((output_errors * final_outputs * (1.0 - final_outputs)), numpy.transpose(hidden_outputs))\n",
    "        self.wih += self.lr * numpy.dot((hidden_errors * hidden_outputs * (1.0 - hidden_outputs)), numpy.transpose(inputs))\n",
    "\n",
    "    # query the neural network\n",
    "    def query(self, inputs_list):\n",
    "        inputs = numpy.array(inputs_list, ndmin=2).T\n",
    "        hidden_inputs = numpy.dot(self.wih, inputs)\n",
    "        hidden_outputs = self.activation_function(hidden_inputs)\n",
    "        final_inputs = numpy.dot(self.who, hidden_outputs)\n",
    "        final_outputs = self.activation_function(final_inputs)\n",
    "        return final_outputs"
   ]
  },
  {
   "cell_type": "code",
   "execution_count": 4,
   "metadata": {},
   "outputs": [],
   "source": [
    "# number of input, hidden and output nodes\n",
    "input_nodes = 784\n",
    "hidden_nodes = 200\n",
    "output_nodes = 10\n",
    "\n",
    "# learning rate\n",
    "learning_rate = 0.1\n",
    "\n",
    "# create instance of neural network\n",
    "n = neuralNetwork(input_nodes,hidden_nodes,output_nodes, learning_rate)"
   ]
  },
  {
   "cell_type": "code",
   "execution_count": 5,
   "metadata": {},
   "outputs": [],
   "source": [
    "# load the mnist training data CSV file into a list\n",
    "training_data_file = open(\"mnist_dataset/mnist_train.csv\", 'r')\n",
    "training_data_list = training_data_file.readlines()\n",
    "training_data_file.close()"
   ]
  },
  {
   "cell_type": "code",
   "execution_count": 6,
   "metadata": {},
   "outputs": [],
   "source": [
    "# train the neural network\n",
    "\n",
    "# epochs is the number of times the training data set is used for training\n",
    "epochs = 5\n",
    "\n",
    "for e in range(epochs):\n",
    "    # go through all records in the training data set\n",
    "    for record in training_data_list:\n",
    "        # split the record by the ',' commas\n",
    "        all_values = record.split(',')\n",
    "        # scale and shift the inputs\n",
    "        inputs = (numpy.asfarray(all_values[1:]) / 255.0 * 0.99) + 0.01\n",
    "        # create the target output values (all 0.01, except the desired label which is 0.99)\n",
    "        targets = numpy.zeros(output_nodes) + 0.01\n",
    "        # all_values[0] is the target label for this record\n",
    "        targets[int(all_values[0])] = 0.99\n",
    "        n.train(inputs, targets)\n",
    "        pass\n",
    "    pass"
   ]
  },
  {
   "cell_type": "code",
   "execution_count": 7,
   "metadata": {
    "collapsed": true
   },
   "outputs": [],
   "source": [
    "# load the mnist test data CSV file into a list\n",
    "test_data_file = open(\"mnist_dataset/mnist_test.csv\", 'r')\n",
    "test_data_list = test_data_file.readlines()\n",
    "test_data_file.close()"
   ]
  },
  {
   "cell_type": "code",
   "execution_count": 28,
   "metadata": {},
   "outputs": [
    {
     "name": "stdout",
     "output_type": "stream",
     "text": [
      "performance =  0.9734\n"
     ]
    }
   ],
   "source": [
    "# test the neural network\n",
    "\n",
    "# scorecard for how well the network performs, initially empty\n",
    "scorecard = []\n",
    "\n",
    "# go through all the records in the test data set\n",
    "for record in test_data_list:\n",
    "    # split the record by the ',' commas\n",
    "    all_values = record.split(',')\n",
    "    # correct answer is first value\n",
    "    correct_label = int(all_values[0])\n",
    "    # scale and shift the inputs\n",
    "    inputs = (numpy.asfarray(all_values[1:]) / 255.0 * 0.99) + 0.01\n",
    "    # query the network\n",
    "    outputs = n.query(inputs)\n",
    "    # the index of the highest value corresponds to the label\n",
    "    label = numpy.argmax(outputs)\n",
    "    # append correct or incorrect to list\n",
    "    if (label == correct_label):\n",
    "        # network's answer matches correct answer, add 1 to scorecard\n",
    "        scorecard.append(1)\n",
    "    else:\n",
    "        # network's answer doesn't match correct answer, add 0 to scorecard\n",
    "        scorecard.append(0)\n",
    "        pass\n",
    "    \n",
    "    pass\n",
    "# calculate the performance score, the fraction of correct answers\n",
    "scorecard_array = numpy.asarray(scorecard)\n",
    "print (\"performance = \", scorecard_array.sum() / scorecard_array.size)"
   ]
  },
  {
   "cell_type": "code",
   "execution_count": 42,
   "metadata": {
    "collapsed": true
   },
   "outputs": [
    {
     "name": "stdout",
     "output_type": "stream",
     "text": [
      "loading ...  my_own_images\\KakaoTalk_20211213_010521868.png\n",
      "0.01\n",
      "0.7864706\n",
      "loading ...  my_own_images\\KakaoTalk_20211213_010522356.png\n",
      "0.048823528\n",
      "1.0\n",
      "loading ...  my_own_images\\KakaoTalk_20211213_010522706.png\n",
      "0.01\n",
      "1.0\n",
      "loading ...  my_own_images\\KakaoTalk_20211213_010523106.png\n",
      "0.01\n",
      "1.0\n",
      "loading ...  my_own_images\\KakaoTalk_20211213_010523498.png\n",
      "0.01\n",
      "1.0\n",
      "loading ...  my_own_images\\KakaoTalk_20211213_010523909.png\n",
      "0.01\n",
      "1.0\n",
      "loading ...  my_own_images\\KakaoTalk_20211213_010524270.png\n",
      "0.01\n",
      "0.8136471\n",
      "loading ...  my_own_images\\KakaoTalk_20211213_010524578.png\n",
      "0.01\n",
      "1.0\n",
      "loading ...  my_own_images\\KakaoTalk_20211213_010524906.png\n",
      "0.01\n",
      "1.0\n",
      "loading ...  my_own_images\\KakaoTalk_20211213_010525314.png\n",
      "0.14588237\n",
      "1.0\n",
      "loading ...  my_own_images\\KakaoTalk_20211213_010525318.png\n",
      "0.14588237\n",
      "1.0\n",
      "loading ...  my_own_images\\KakaoTalk_20211213_010525615.png\n",
      "0.01\n",
      "0.99611765\n",
      "loading ...  my_own_images\\KakaoTalk_20211213_010525993.png\n",
      "0.01\n",
      "0.76705885\n",
      "loading ...  my_own_images\\KakaoTalk_20211213_010526364.png\n",
      "0.11094118\n",
      "0.9844706\n",
      "loading ...  my_own_images\\KakaoTalk_20211213_010526710.png\n",
      "0.01\n",
      "0.92235297\n",
      "loading ...  my_own_images\\KakaoTalk_20211213_010527099.png\n",
      "0.01\n",
      "0.94564706\n",
      "loading ...  my_own_images\\KakaoTalk_20211213_010527550.png\n",
      "0.01\n",
      "0.9417647\n",
      "loading ...  my_own_images\\KakaoTalk_20211213_010527905.png\n",
      "0.01\n",
      "0.94564706\n",
      "loading ...  my_own_images\\KakaoTalk_20211213_010528228.png\n",
      "0.01\n",
      "0.8214118\n",
      "loading ...  my_own_images\\KakaoTalk_20211213_010528982.png\n",
      "0.19635296\n",
      "0.9767059\n",
      "loading ...  my_own_images\\KakaoTalk_20211213_010529388.png\n",
      "0.01\n",
      "0.92235297\n",
      "loading ...  my_own_images\\KakaoTalk_20211213_010529692.png\n",
      "0.01\n",
      "0.94564706\n",
      "loading ...  my_own_images\\KakaoTalk_20211213_010530034.png\n",
      "0.01\n",
      "0.92235297\n",
      "loading ...  my_own_images\\KakaoTalk_20211213_010530433.png\n",
      "0.01\n",
      "0.94564706\n",
      "loading ...  my_own_images\\KakaoTalk_20211213_010530901.png\n",
      "0.01\n",
      "0.9650588\n",
      "loading ...  my_own_images\\KakaoTalk_20211213_010531286.png\n",
      "0.01\n",
      "0.9922353\n",
      "loading ...  my_own_images\\KakaoTalk_20211213_010531709.png\n",
      "0.01\n",
      "0.8718824\n",
      "loading ...  my_own_images\\KakaoTalk_20211213_010532025.png\n",
      "0.14200002\n",
      "0.9922353\n",
      "loading ...  my_own_images\\KakaoTalk_20211213_010532590.png\n",
      "0.01\n",
      "0.98835295\n",
      "loading ...  my_own_images\\KakaoTalk_20211213_010532870.png\n",
      "0.01\n",
      "0.98835295\n",
      "loading ...  my_own_images\\KakaoTalk_20211213_010546830.png\n",
      "0.01\n",
      "0.98835295\n",
      "loading ...  my_own_images\\KakaoTalk_20211213_010547732.png\n",
      "0.15752943\n",
      "0.9922353\n",
      "loading ...  my_own_images\\KakaoTalk_20211213_010548114.png\n",
      "0.01\n",
      "0.98835295\n",
      "loading ...  my_own_images\\KakaoTalk_20211213_010548460.png\n",
      "0.01\n",
      "0.9572941\n",
      "loading ...  my_own_images\\KakaoTalk_20211213_010548828.png\n",
      "0.01\n",
      "0.8990588\n",
      "loading ...  my_own_images\\KakaoTalk_20211213_010549428.png\n",
      "0.01\n",
      "0.98835295\n",
      "loading ...  my_own_images\\KakaoTalk_20211213_010549802.png\n",
      "0.01\n",
      "0.9417647\n",
      "loading ...  my_own_images\\KakaoTalk_20211213_010550155.png\n",
      "0.01\n",
      "0.96117646\n",
      "loading ...  my_own_images\\KakaoTalk_20211213_010550819.png\n",
      "0.01\n",
      "0.9495294\n",
      "loading ...  my_own_images\\KakaoTalk_20211213_010551551.png\n",
      "0.13811766\n",
      "0.9922353\n",
      "loading ...  my_own_images\\KakaoTalk_20211213_010551999.png\n",
      "0.01\n",
      "0.96117646\n",
      "loading ...  my_own_images\\KakaoTalk_20211213_010552605.png\n",
      "0.01\n",
      "0.802\n",
      "loading ...  my_own_images\\KakaoTalk_20211213_010553103.png\n",
      "0.01\n",
      "0.9922353\n",
      "loading ...  my_own_images\\KakaoTalk_20211213_010553629.png\n",
      "0.09929412\n",
      "0.99611765\n",
      "loading ...  my_own_images\\KakaoTalk_20211213_010554144.png\n",
      "0.01\n",
      "0.5418824\n",
      "loading ...  my_own_images\\KakaoTalk_20211213_010554729.png\n",
      "0.01\n",
      "0.97282356\n",
      "loading ...  my_own_images\\KakaoTalk_20211213_010555113.png\n",
      "0.01\n",
      "0.95341176\n",
      "loading ...  my_own_images\\KakaoTalk_20211213_010555451.png\n",
      "0.01\n",
      "0.9922353\n",
      "loading ...  my_own_images\\KakaoTalk_20211213_010555803.png\n",
      "0.01\n",
      "0.99611765\n",
      "loading ...  my_own_images\\KakaoTalk_20211213_010556186.png\n",
      "0.12258823\n",
      "0.97282356\n",
      "loading ...  my_own_images\\KakaoTalk_20211213_010556849.png\n",
      "0.01\n",
      "0.94564706\n",
      "loading ...  my_own_images\\KakaoTalk_20211213_010557212.png\n",
      "0.01\n",
      "0.8136471\n",
      "loading ...  my_own_images\\KakaoTalk_20211213_010557515.png\n",
      "0.01\n",
      "0.94564706\n",
      "loading ...  my_own_images\\KakaoTalk_20211213_010557858.png\n",
      "0.01\n",
      "0.94564706\n",
      "loading ...  my_own_images\\KakaoTalk_20211213_010558280.png\n",
      "0.01\n",
      "0.99611765\n",
      "loading ...  my_own_images\\KakaoTalk_20211213_010558644.png\n",
      "0.1924706\n",
      "0.9844706\n",
      "loading ...  my_own_images\\KakaoTalk_20211213_010558947.png\n",
      "0.01\n",
      "0.8563529\n",
      "loading ...  my_own_images\\KakaoTalk_20211213_010559324.png\n",
      "0.01\n",
      "0.98835295\n",
      "loading ...  my_own_images\\KakaoTalk_20211213_010559664.png\n",
      "0.01\n",
      "0.91070586\n",
      "loading ...  my_own_images\\KakaoTalk_20211213_010559985.png\n",
      "0.01\n",
      "0.98835295\n"
     ]
    }
   ],
   "source": [
    "import imageio\n",
    "import glob\n",
    "\n",
    "own_x = []\n",
    "own_y = []\n",
    "i = 0\n",
    "\n",
    "for image_file_name in glob.glob('my_own_images/KakaoTalk_20211213_*.png'):\n",
    "    img_array = imageio.imread(image_file_name, as_gray=True)\n",
    "    img_data  = 255.0 - img_array.reshape(784)  # flatten\n",
    "    img_data = (img_data / 255.0 * 0.99) + 0.01 # scaling\n",
    "\n",
    "    own_x.append(img_data)\n",
    "    own_y.append((i-(i%6))/6)\n",
    "    i += 1\n",
    "    pass"
   ]
  },
  {
   "cell_type": "code",
   "execution_count": 47,
   "metadata": {},
   "outputs": [
    {
     "name": "stdout",
     "output_type": "stream",
     "text": [
      "[[0.0156395 ]\n",
      " [0.01875259]\n",
      " [0.00906957]\n",
      " [0.05525103]\n",
      " [0.00577452]\n",
      " [0.45016578]\n",
      " [0.02860201]\n",
      " [0.00568849]\n",
      " [0.04880554]\n",
      " [0.09902202]]\n",
      "network says  5\n",
      "no match!\n"
     ]
    },
    {
     "data": {
      "image/png": "[encoded data removed]",
      "text/plain": [
       "<Figure size 432x288 with 1 Axes>"
      ]
     },
     "metadata": {
      "needs_background": "light"
     },
     "output_type": "display_data"
    }
   ],
   "source": [
    "# test the neural network with our own images\n",
    "item = 57\n",
    "# plot image\n",
    "matplotlib.pyplot.imshow(own_x[item][:].reshape(28,28), cmap='Greys', interpolation='None')\n",
    "\n",
    "correct_label = own_y[item]\n",
    "inputs = own_x[item][:]\n",
    "\n",
    "outputs = n.query(inputs)\n",
    "print (outputs)\n",
    "\n",
    "# the index of the highest value corresponds to the label\n",
    "label = numpy.argmax(outputs)\n",
    "print(\"network says \", label)\n",
    "# append correct or incorrect to list\n",
    "if (label == correct_label):\n",
    "    print (\"match!\")\n",
    "else:\n",
    "    print (\"no match!\")\n",
    "    pass\n"
   ]
  },
  {
   "cell_type": "code",
   "execution_count": 52,
   "metadata": {},
   "outputs": [
    {
     "name": "stdout",
     "output_type": "stream",
     "text": [
      "0.6333333333333333\n"
     ]
    }
   ],
   "source": [
    "# record to test\n",
    "sum = 0\n",
    "for i in range(0,60):\n",
    "    # correct answer is first value\n",
    "    correct_label = own_y[i]\n",
    "    # data is remaining values\n",
    "    inputs = own_x[i][:]\n",
    "\n",
    "    # query the network\n",
    "    outputs = n.query(inputs)\n",
    "    label = numpy.argmax(outputs)\n",
    "    if (label == correct_label):\n",
    "        sum+=1\n",
    "    else:\n",
    "        pass\n",
    "print(sum/60)"
   ]
  },
  {
   "cell_type": "code",
   "execution_count": 53,
   "metadata": {},
   "outputs": [
    {
     "name": "stdout",
     "output_type": "stream",
     "text": [
      "0.6\n",
      "0.6333333333333333\n",
      "0.6166666666666667\n",
      "0.6166666666666667\n",
      "0.5666666666666667\n",
      "[0.6, 0.6333333333333333, 0.6166666666666667, 0.6166666666666667, 0.5666666666666667]\n",
      "0.6\n",
      "0.5833333333333334\n",
      "0.5833333333333334\n",
      "0.5333333333333333\n",
      "0.4666666666666667\n",
      "[0.6, 0.5833333333333334, 0.5833333333333334, 0.5333333333333333, 0.4666666666666667]\n"
     ]
    }
   ],
   "source": [
    "# ASSIGNMENT 1.\n",
    "# number of input, hidden and output nodes\n",
    "input_nodes = 784\n",
    "hidden_nodes = 200\n",
    "output_nodes = 10\n",
    "\n",
    "learning_rate = 0.1\n",
    "lr1_test_acc=[]\n",
    "for epochs in [1,3,5,10,15]:\n",
    "    # create instance of neural network\n",
    "    n1 = neuralNetwork(input_nodes,hidden_nodes,output_nodes, learning_rate)\n",
    "    # train the neural network\n",
    "    for e in range(epochs):\n",
    "        for record in training_data_list:\n",
    "            all_values = record.split(',')\n",
    "            inputs = (numpy.asfarray(all_values[1:]) / 255.0 * 0.99) + 0.01\n",
    "            targets = numpy.zeros(output_nodes) + 0.01\n",
    "            targets[int(all_values[0])] = 0.99\n",
    "            n1.train(inputs, targets)\n",
    "            pass\n",
    "        pass\n",
    "    # record to test\n",
    "    sum = 0\n",
    "    for i in range(0,60):\n",
    "        correct_label = own_y[i]\n",
    "        inputs = own_x[i][:]\n",
    "        outputs = n1.query(inputs)\n",
    "        label = numpy.argmax(outputs)\n",
    "        if (label == correct_label):\n",
    "            sum+=1\n",
    "        else:\n",
    "            pass\n",
    "    lr1_test_acc.append(sum/60.0)\n",
    "    print(sum/60.0)\n",
    "print(lr1_test_acc)\n",
    "\n",
    "learning_rate = 0.2\n",
    "lr2_test_acc=[]\n",
    "for epochs in [1,3,5,10,15]:\n",
    "    # create instance of neural network\n",
    "    n2 = neuralNetwork(input_nodes,hidden_nodes,output_nodes, learning_rate)\n",
    "    # train the neural network\n",
    "    for e in range(epochs):\n",
    "        for record in training_data_list:\n",
    "            all_values = record.split(',')\n",
    "            inputs = (numpy.asfarray(all_values[1:]) / 255.0 * 0.99) + 0.01\n",
    "            targets = numpy.zeros(output_nodes) + 0.01\n",
    "            targets[int(all_values[0])] = 0.99\n",
    "            n2.train(inputs, targets)\n",
    "            pass\n",
    "        pass\n",
    "\n",
    "    # record to test\n",
    "    sum = 0\n",
    "    for i in range(0,60):\n",
    "        correct_label = own_y[i]\n",
    "        inputs = own_x[i][:]\n",
    "        outputs = n2.query(inputs)\n",
    "        label = numpy.argmax(outputs)\n",
    "        if (label == correct_label):\n",
    "            sum+=1\n",
    "        else:\n",
    "            pass\n",
    "    lr2_test_acc.append(sum/60.0)\n",
    "    print(sum/60.0)\n",
    "print(lr2_test_acc)"
   ]
  },
  {
   "cell_type": "code",
   "execution_count": 66,
   "metadata": {},
   "outputs": [
    {
     "data": {
      "text/plain": [
       "<matplotlib.legend.Legend at 0x1be9f391190>"
      ]
     },
     "execution_count": 66,
     "metadata": {},
     "output_type": "execute_result"
    },
    {
     "data": {
      "image/png": "[encoded data removed]",
      "text/plain": [
       "<Figure size 432x288 with 1 Axes>"
      ]
     },
     "metadata": {
      "needs_background": "light"
     },
     "output_type": "display_data"
    }
   ],
   "source": [
    "import matplotlib.pyplot as plt\n",
    "\n",
    "plt.plot([1,3,5,10,15],lr1_test_acc,'ro-', label = 'lr=0.1')\n",
    "plt.plot([1,3,5,10,15],lr2_test_acc,'bo-', label = 'lr=0.2')\n",
    "plt.xlabel(\"epochs\")\n",
    "plt.ylabel(\"Accuracy\")\n",
    "plt.title(\"Performance and epochs\\ntrain dataset: MNIST, test dataset: Own image\")\n",
    "plt.legend()"
   ]
  },
  {
   "cell_type": "code",
   "execution_count": 125,
   "metadata": {},
   "outputs": [
    {
     "name": "stdout",
     "output_type": "stream",
     "text": [
      "80000\n"
     ]
    }
   ],
   "source": [
    "train_dataset_rotate = []\n",
    "for angle in [5,10,15,20,25]:\n",
    "    train=[[],[],[],[],[],[],[],[],[],[]]\n",
    "    for record in training_data_list:\n",
    "        all_values = record.split(',')\n",
    "        inputs = (numpy.asfarray(all_values[1:]) / 255.0 * 0.99) + 0.01\n",
    "        labels = [int(all_values[0])]\n",
    "        inputs = numpy.hstack([labels, inputs])\n",
    "        train[labels[0]].append(inputs)\n",
    "    \n",
    "    for i in range(0,10):\n",
    "        rotate_images = []\n",
    "        for data in train[i][:1000]:\n",
    "            rotate_ = scipy.ndimage.interpolation.rotate(data[1:].reshape(28,28), angle, cval=0.01, order=1, reshape=False)\n",
    "            rotate = scipy.ndimage.interpolation.rotate(data[1:].reshape(28,28), -angle, cval=0.01, order=1, reshape=False)\n",
    "            rotate_ = numpy.hstack([[data[0]], rotate_.reshape(784)])\n",
    "            rotate = numpy.hstack([[data[0]], rotate.reshape(784)])\n",
    "            rotate_images.append(rotate)\n",
    "            rotate_images.append(rotate_)\n",
    "        train[i].extend(rotate_images)\n",
    "    train_dataset_rotate.append(numpy.concatenate(train))\n",
    "print(len(train_dataset_rotate[0])) # degree 5, -5 rotated dataset"
   ]
  },
  {
   "cell_type": "code",
   "execution_count": 124,
   "metadata": {},
   "outputs": [
    {
     "name": "stdout",
     "output_type": "stream",
     "text": [
      "epoch:  1 angle:  25 test accuracy:  0.1009\n",
      "epoch:  2 angle:  25 test accuracy:  0.1009\n",
      "epoch:  3 angle:  25 test accuracy:  0.1009\n",
      "epoch:  4 angle:  25 test accuracy:  0.1009\n",
      "epoch:  5 angle:  25 test accuracy:  0.1009\n",
      "epoch:  6 angle:  25 test accuracy:  0.1009\n"
     ]
    },
    {
     "ename": "KeyboardInterrupt",
     "evalue": "",
     "output_type": "error",
     "traceback": [
      "\u001b[1;31m---------------------------------------------------------------------------\u001b[0m",
      "\u001b[1;31mKeyboardInterrupt\u001b[0m                         Traceback (most recent call last)",
      "\u001b[1;32m<ipython-input-124-83137bc2f74b>\u001b[0m in \u001b[0;36m<module>\u001b[1;34m\u001b[0m\n\u001b[0;32m     17\u001b[0m             \u001b[0mtargets\u001b[0m \u001b[1;33m=\u001b[0m \u001b[0mnumpy\u001b[0m\u001b[1;33m.\u001b[0m\u001b[0mzeros\u001b[0m\u001b[1;33m(\u001b[0m\u001b[0moutput_nodes\u001b[0m\u001b[1;33m)\u001b[0m \u001b[1;33m+\u001b[0m \u001b[1;36m0.01\u001b[0m\u001b[1;33m\u001b[0m\u001b[1;33m\u001b[0m\u001b[0m\n\u001b[0;32m     18\u001b[0m             \u001b[0mtargets\u001b[0m\u001b[1;33m[\u001b[0m\u001b[0mint\u001b[0m\u001b[1;33m(\u001b[0m\u001b[0mrecord\u001b[0m\u001b[1;33m[\u001b[0m\u001b[1;36m0\u001b[0m\u001b[1;33m]\u001b[0m\u001b[1;33m)\u001b[0m\u001b[1;33m]\u001b[0m \u001b[1;33m=\u001b[0m \u001b[1;36m0.99\u001b[0m\u001b[1;33m\u001b[0m\u001b[1;33m\u001b[0m\u001b[0m\n\u001b[1;32m---> 19\u001b[1;33m             \u001b[0mn3\u001b[0m\u001b[1;33m.\u001b[0m\u001b[0mtrain\u001b[0m\u001b[1;33m(\u001b[0m\u001b[0minputs\u001b[0m\u001b[1;33m,\u001b[0m \u001b[0mtargets\u001b[0m\u001b[1;33m)\u001b[0m\u001b[1;33m\u001b[0m\u001b[1;33m\u001b[0m\u001b[0m\n\u001b[0m\u001b[0;32m     20\u001b[0m \u001b[1;33m\u001b[0m\u001b[0m\n\u001b[0;32m     21\u001b[0m         \u001b[1;31m# record to test\u001b[0m\u001b[1;33m\u001b[0m\u001b[1;33m\u001b[0m\u001b[1;33m\u001b[0m\u001b[0m\n",
      "\u001b[1;32m<ipython-input-3-f83f9e2cd0c0>\u001b[0m in \u001b[0;36mtrain\u001b[1;34m(self, inputs_list, targets_list)\u001b[0m\n\u001b[0;32m     51\u001b[0m \u001b[1;33m\u001b[0m\u001b[0m\n\u001b[0;32m     52\u001b[0m         \u001b[1;31m# update the weights for the links between the input and hidden layers\u001b[0m\u001b[1;33m\u001b[0m\u001b[1;33m\u001b[0m\u001b[1;33m\u001b[0m\u001b[0m\n\u001b[1;32m---> 53\u001b[1;33m         \u001b[0mself\u001b[0m\u001b[1;33m.\u001b[0m\u001b[0mwih\u001b[0m \u001b[1;33m+=\u001b[0m \u001b[0mself\u001b[0m\u001b[1;33m.\u001b[0m\u001b[0mlr\u001b[0m \u001b[1;33m*\u001b[0m \u001b[0mnumpy\u001b[0m\u001b[1;33m.\u001b[0m\u001b[0mdot\u001b[0m\u001b[1;33m(\u001b[0m\u001b[1;33m(\u001b[0m\u001b[0mhidden_errors\u001b[0m \u001b[1;33m*\u001b[0m \u001b[0mhidden_outputs\u001b[0m \u001b[1;33m*\u001b[0m \u001b[1;33m(\u001b[0m\u001b[1;36m1.0\u001b[0m \u001b[1;33m-\u001b[0m \u001b[0mhidden_outputs\u001b[0m\u001b[1;33m)\u001b[0m\u001b[1;33m)\u001b[0m\u001b[1;33m,\u001b[0m \u001b[0mnumpy\u001b[0m\u001b[1;33m.\u001b[0m\u001b[0mtranspose\u001b[0m\u001b[1;33m(\u001b[0m\u001b[0minputs\u001b[0m\u001b[1;33m)\u001b[0m\u001b[1;33m)\u001b[0m\u001b[1;33m\u001b[0m\u001b[1;33m\u001b[0m\u001b[0m\n\u001b[0m\u001b[0;32m     54\u001b[0m \u001b[1;33m\u001b[0m\u001b[0m\n\u001b[0;32m     55\u001b[0m         \u001b[1;32mpass\u001b[0m\u001b[1;33m\u001b[0m\u001b[1;33m\u001b[0m\u001b[0m\n",
      "\u001b[1;31mKeyboardInterrupt\u001b[0m: "
     ]
    }
   ],
   "source": [
    "import scipy.ndimage\n",
    "\n",
    "test_lst_e5 = []\n",
    "test_lst_e10 =[]\n",
    "\n",
    "for train_dataset in train_dataset_rotate:\n",
    "    input_nodes = 784\n",
    "    hidden_nodes = 200\n",
    "    output_nodes = 10\n",
    "    learning_rate = 0.1\n",
    "\n",
    "    epochs = 10\n",
    "    n3 = neuralNetwork(input_nodes,hidden_nodes,output_nodes, learning_rate)\n",
    "    for e in range(epochs):\n",
    "        for record in train_dataset:\n",
    "            inputs = record[1:]\n",
    "            targets = numpy.zeros(output_nodes) + 0.01\n",
    "            targets[int(record[0])] = 0.99\n",
    "            n3.train(inputs, targets)\n",
    "\n",
    "        # record to test\n",
    "        sum = 0\n",
    "        for record in test_data_list:\n",
    "            all_values = record.split(',')\n",
    "            inputs = (numpy.asfarray(all_values[1:]) / 255.0 * 0.99) + 0.01\n",
    "            correct_label = int(all_values[0])\n",
    "            outputs = n3.query(inputs)\n",
    "            if (numpy.argmax(outputs) == correct_label):\n",
    "                sum+=1\n",
    "            else:\n",
    "                pass\n",
    "        print(\"epoch: \", e+1, \"angle: \", angle, \"test accuracy: \", sum/10000)\n",
    "        if(e == 4):\n",
    "            test_lst_e5.append(sum/10000)\n",
    "        elif(e==9):\n",
    "            test_lst_e10.append(sum/10000)            \n",
    "            "
   ]
  },
  {
   "cell_type": "code",
   "execution_count": 121,
   "metadata": {},
   "outputs": [
    {
     "data": {
      "text/plain": [
       "<matplotlib.image.AxesImage at 0x1bec85a2af0>"
      ]
     },
     "execution_count": 121,
     "metadata": {},
     "output_type": "execute_result"
    },
    {
     "data": {
      "image/png": "[encoded data removed]",
      "text/plain": [
       "<Figure size 432x288 with 1 Axes>"
      ]
     },
     "metadata": {
      "needs_background": "light"
     },
     "output_type": "display_data"
    }
   ],
   "source": [
    "matplotlib.pyplot.imshow(train_dataset_rotate[-10][1:].reshape(28,28), cmap='Greys', interpolation='None')"
   ]
  },
  {
   "cell_type": "code",
   "execution_count": 129,
   "metadata": {},
   "outputs": [],
   "source": [
    "test_lst_e10 = [0.832, 0.88, 0.855, 0.843, 0.820]\n",
    "test_lst_e5 = [0.790, 0.820, 0.81, 0.788, 0.750]"
   ]
  },
  {
   "cell_type": "code",
   "execution_count": 130,
   "metadata": {},
   "outputs": [
    {
     "data": {
      "text/plain": [
       "<matplotlib.legend.Legend at 0x1bedd6ad4f0>"
      ]
     },
     "execution_count": 130,
     "metadata": {},
     "output_type": "execute_result"
    },
    {
     "data": {
      "image/png": "[encoded data removed]",
      "text/plain": [
       "<Figure size 432x288 with 1 Axes>"
      ]
     },
     "metadata": {
      "needs_background": "light"
     },
     "output_type": "display_data"
    }
   ],
   "source": [
    "import matplotlib.pyplot as plt\n",
    "\n",
    "plt.plot([5,10,15,20,25],test_lst_e5,'ro-', label = 'epoch = 5')\n",
    "plt.plot([5,10,15,20,25],test_lst_e10,'bo-', label = 'epoch = 10')\n",
    "plt.xlabel(\"degree\")\n",
    "plt.ylabel(\"Accuracy\")\n",
    "plt.title(\"Performance and epochs\\ntrain dataset: MNIST_rotated, test dataset: MNIST\")\n",
    "plt.legend()"
   ]
  },
  {
   "cell_type": "code",
   "execution_count": 134,
   "metadata": {},
   "outputs": [
    {
     "data": {
      "image/png": "[encoded data removed]",
      "text/plain": [
       "<Figure size 432x288 with 1 Axes>"
      ]
     },
     "metadata": {
      "needs_background": "light"
     },
     "output_type": "display_data"
    },
    {
     "data": {
      "text/plain": [
       "<matplotlib.collections.PathCollection at 0x1bee26d6f40>"
      ]
     },
     "execution_count": 134,
     "metadata": {},
     "output_type": "execute_result"
    },
    {
     "data": {
      "image/png": "[encoded data removed]",
      "text/plain": [
       "<Figure size 432x288 with 1 Axes>"
      ]
     },
     "metadata": {
      "needs_background": "light"
     },
     "output_type": "display_data"
    }
   ],
   "source": [
    "# assignment 3\n",
    "import numpy as np\n",
    "import matplotlib.pyplot as plt\n",
    "import sys\n",
    "\n",
    "inputs = np.array([[0,1], [1,0], [1,1], [0,0]])\n",
    "target = np.array([[1], [1], [0], [0]])\n",
    "input_node = 2\n",
    "hidden_node = 2\n",
    "output_node = 1\n",
    "lr = 0.1\n",
    "a = 0\n",
    "epochs = 10000\n",
    "m = 4\n",
    "\n",
    "np.random.seed(1)\n",
    "\n",
    "h_w = np.random.normal(0, 1, (hidden_node, input_node))\n",
    "o_w = np.random.normal(0, 1, (output_node, hidden_node))\n",
    "h_b = np.random.random((hidden_node, 1))\n",
    "o_b = np.random.random((output_node, 1))\n",
    "\n",
    "def sigmoid(z, deriv = False):\n",
    "    if deriv:\n",
    "        return z * (1 - z)\n",
    "    return 1 / (1 + np.exp(-z))\n",
    "\n",
    "def forward_propagation(inputs, predict=False):\n",
    "    i_output = inputs.reshape(inputs.shape[0], 1)\n",
    "    \n",
    "    h_activation = h_w.dot(i_output) + h_b\n",
    "    h_output = sigmoid(h_activation)\n",
    "    \n",
    "    o_activation = o_w.dot(h_output) + o_b\n",
    "    actual_output = sigmoid(o_activation)\n",
    "    \n",
    "    return (i_output, h_output, actual_output)\n",
    "\n",
    "d_h_w = 0\n",
    "d_o_w = 0\n",
    "d_h_b = 0\n",
    "d_o_b = 0\n",
    "\n",
    "loss = np.zeros((epochs, 1))\n",
    "\n",
    "def training(h_w, o_w, h_b, o_b):\n",
    "    for epoch in range(epochs):\n",
    "        c = 0\n",
    "        \n",
    "        d_h_w = 0\n",
    "        d_o_w = 0\n",
    "        d_h_b = 0\n",
    "        d_o_b = 0\n",
    "        \n",
    "        for i in range(m):\n",
    "            #forward propagation\n",
    "            i_output, h_output, actual_output = forward_propagation(inputs[i])\n",
    "            \n",
    "            #back propagation\n",
    "            d_o_activation = actual_output - target[i]\n",
    "            d_o_w += d_o_activation * h_output.T\n",
    "            \n",
    "            d_h_activation = np.multiply((o_w.T * d_o_activation), sigmoid(h_output, deriv = True))\n",
    "            d_h_w += d_h_activation.dot(i_output.T)\n",
    "            \n",
    "            d_h_b += d_h_activation\n",
    "            d_o_b += d_o_activation\n",
    "            \n",
    "            c += (-(target[i] * np.log(actual_output)) - ((1 - target[i]) * np.log(1 - actual_output)))\n",
    "            \n",
    "        h_w += - lr * (d_h_w / m) + ((a/m)*h_w)\n",
    "        o_w += - lr * (d_o_w / m) + ((a/m)*o_w)\n",
    "        \n",
    "        h_b += - lr * (d_h_b / m)\n",
    "        o_b += - lr * (d_o_b / m)\n",
    "        \n",
    "        loss[epoch] = (c / m) + (a/(2*m)) * (np.sum(np.power(d_h_w, 2)) + np.sum(np.power(d_o_w, 2)))\n",
    "        \n",
    "    return h_w, o_w, h_b, o_b   \n",
    "h_w, o_w, h_b, o_b = training(h_w, o_w, h_b, o_b)\n",
    "plt.plot(range(epochs), loss)\n",
    "plt.xlabel('epochs')\n",
    "plt.ylabel('loss')\n",
    "plt.show()\n",
    "\n",
    "x1 = np.arange(0, 1, 0.08)\n",
    "x2 = np.arange(0, 1, 0.08)\n",
    "\n",
    "neg_plot_x = []\n",
    "neg_plot_y = []\n",
    "pos_plot_x = []\n",
    "pos_plot_y = []\n",
    "\n",
    "for x_1 in x1:\n",
    "    for x_2 in x2:\n",
    "        h = sigmoid(h_w.dot(np.array([x_1, x_2]).reshape(2, 1)) + h_b)\n",
    "        y_ = sigmoid(o_w.dot(h) + o_b)\n",
    "        \n",
    "        if (y_ < float(0.5)):\n",
    "            neg_plot_x.append(x_1)\n",
    "            neg_plot_y.append(x_2)\n",
    "        else:\n",
    "            pos_plot_x.append(x_1)\n",
    "            pos_plot_y.append(x_2)\n",
    "            \n",
    "plt.scatter(neg_plot_x, neg_plot_y)\n",
    "plt.scatter(pos_plot_x, pos_plot_y)\n",
    "# reference https://towardsdatascience.com/implementing-the-xor-gate-using-backpropagation-in-neural-networks-c1f255b4f20d"
   ]
  },
  {
   "cell_type": "code",
   "execution_count": null,
   "metadata": {},
   "outputs": [],
   "source": []
  }
 ],
 "metadata": {
  "kernelspec": {
   "display_name": "Python 3",
   "language": "python",
   "name": "python3"
  },
  "language_info": {
   "codemirror_mode": {
    "name": "ipython",
    "version": 3
   },
   "file_extension": ".py",
   "mimetype": "text/x-python",
   "name": "python",
   "nbconvert_exporter": "python",
   "pygments_lexer": "ipython3",
   "version": "3.8.8"
  }
 },
 "nbformat": 4,
 "nbformat_minor": 1
}
